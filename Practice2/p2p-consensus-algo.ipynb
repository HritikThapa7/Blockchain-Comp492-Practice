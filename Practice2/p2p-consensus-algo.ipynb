{
  "cells": [
    {
      "cell_type": "markdown",
      "source": [
        "# P2P Network Practice"
      ],
      "metadata": {
        "id": "gSRMWThyg66r"
      }
    },
    {
      "cell_type": "code",
      "source": [
        "!pip install pycryptodome\n",
        "!pip install trio"
      ],
      "metadata": {
        "colab": {
          "base_uri": "https://localhost:8080/"
        },
        "id": "-X4poollhB0R",
        "outputId": "6377396f-5e02-482f-d82d-25d709484a8f"
      },
      "execution_count": 3,
      "outputs": [
        {
          "output_type": "stream",
          "name": "stdout",
          "text": [
            "Looking in indexes: https://pypi.org/simple, https://us-python.pkg.dev/colab-wheels/public/simple/\n",
            "Collecting pycryptodome\n",
            "  Downloading pycryptodome-3.17-cp35-abi3-manylinux_2_17_x86_64.manylinux2014_x86_64.whl (2.1 MB)\n",
            "\u001b[2K     \u001b[90m━━━━━━━━━━━━━━━━━━━━━━━━━━━━━━━━━━━━━━━━\u001b[0m \u001b[32m2.1/2.1 MB\u001b[0m \u001b[31m40.3 MB/s\u001b[0m eta \u001b[36m0:00:00\u001b[0m\n",
            "\u001b[?25hInstalling collected packages: pycryptodome\n",
            "Successfully installed pycryptodome-3.17\n",
            "Looking in indexes: https://pypi.org/simple, https://us-python.pkg.dev/colab-wheels/public/simple/\n",
            "Collecting trio\n",
            "  Downloading trio-0.22.0-py3-none-any.whl (384 kB)\n",
            "\u001b[2K     \u001b[90m━━━━━━━━━━━━━━━━━━━━━━━━━━━━━━━━━━━━━━\u001b[0m \u001b[32m384.9/384.9 KB\u001b[0m \u001b[31m16.1 MB/s\u001b[0m eta \u001b[36m0:00:00\u001b[0m\n",
            "\u001b[?25hRequirement already satisfied: sortedcontainers in /usr/local/lib/python3.8/dist-packages (from trio) (2.4.0)\n",
            "Collecting sniffio\n",
            "  Downloading sniffio-1.3.0-py3-none-any.whl (10 kB)\n",
            "Collecting exceptiongroup>=1.0.0rc9\n",
            "  Downloading exceptiongroup-1.1.0-py3-none-any.whl (14 kB)\n",
            "Requirement already satisfied: attrs>=19.2.0 in /usr/local/lib/python3.8/dist-packages (from trio) (22.2.0)\n",
            "Collecting async-generator>=1.9\n",
            "  Downloading async_generator-1.10-py3-none-any.whl (18 kB)\n",
            "Collecting outcome\n",
            "  Downloading outcome-1.2.0-py2.py3-none-any.whl (9.7 kB)\n",
            "Requirement already satisfied: idna in /usr/local/lib/python3.8/dist-packages (from trio) (2.10)\n",
            "Installing collected packages: sniffio, outcome, exceptiongroup, async-generator, trio\n",
            "Successfully installed async-generator-1.10 exceptiongroup-1.1.0 outcome-1.2.0 sniffio-1.3.0 trio-0.22.0\n"
          ]
        }
      ]
    },
    {
      "cell_type": "code",
      "execution_count": 1,
      "metadata": {
        "colab": {
          "base_uri": "https://localhost:8080/"
        },
        "id": "lIYdn1woOS1n",
        "outputId": "161e9c23-4e5a-486a-94b6-90ffd23dee5f"
      },
      "outputs": [
        {
          "output_type": "stream",
          "name": "stdout",
          "text": [
            "127.0.0.1\tlocalhost\n",
            "::1\tlocalhost ip6-localhost ip6-loopback\n",
            "fe00::0\tip6-localnet\n",
            "ff00::0\tip6-mcastprefix\n",
            "ff02::1\tip6-allnodes\n",
            "ff02::2\tip6-allrouters\n",
            "172.28.0.12\t20ad0c078e13\n"
          ]
        }
      ],
      "source": [
        "!cat /etc/hosts"
      ]
    },
    {
      "cell_type": "code",
      "source": [
        "# Implement these in Local Machine as a separate file for server and client. \n",
        "# Run server.py on one terminal and client.py on another and communicate \n",
        "# between them\n",
        "\n",
        "# P2P Network - File Transfer Practice - Server Part\n",
        "import socket\n",
        "\n",
        "def receive_file(file_path, host, port):\n",
        "    # Create a socket and bind to the host and port\n",
        "    sock = socket.socket(socket.AF_INET, socket.SOCK_STREAM)\n",
        "    sock.bind((host, port))\n",
        "    sock.listen(1)\n",
        "    print(\"Server listening on {}:{}...\".format(host, port))\n",
        "\n",
        "    # Wait for a client to connect\n",
        "    conn, addr = sock.accept()\n",
        "    print(\"Connection from {} established.\".format(addr))\n",
        "\n",
        "    # Open the file and receive data from the client\n",
        "    with open(file_path, 'wb') as f:\n",
        "        while True:\n",
        "            data = conn.recv(1024)\n",
        "            if not data:\n",
        "                break\n",
        "            f.write(data)\n",
        "    conn.close()\n",
        "    print(\"File received successfully!\")\n",
        "\n",
        "if __name__ == '__main__':\n",
        "    file_path = input(\"Enter file path: \")\n",
        "    host = input(\"Enter host IP: \")\n",
        "    port = int(input(\"Enter port number: \"))\n",
        "    receive_file(file_path, host, port)\n"
      ],
      "metadata": {
        "id": "h1pf3-6hjItW"
      },
      "execution_count": null,
      "outputs": []
    },
    {
      "cell_type": "code",
      "source": [
        "# P2P Network - File Transfer Practice - Client Part\n",
        "\n",
        "import socket\n",
        "\n",
        "def send_file(file_path, host, port):\n",
        "    # Create a socket and connect to the server\n",
        "    sock = socket.socket(socket.AF_INET, socket.SOCK_STREAM)\n",
        "    sock.connect((host, port))\n",
        "\n",
        "    # Open the file and send data to the server\n",
        "    with open(file_path, 'rb') as f:\n",
        "        sock.sendall(f.read())\n",
        "    sock.close()\n",
        "    print(\"File sent successfully!\")\n",
        "\n",
        "if __name__ == '__main__':\n",
        "    file_path = input(\"Enter file path: \")\n",
        "    host = input(\"Enter host IP: \")\n",
        "    port = int(input(\"Enter port number: \"))\n",
        "    send_file(file_path, host, port)"
      ],
      "metadata": {
        "id": "LXY6-VeLcMIu"
      },
      "execution_count": null,
      "outputs": []
    },
    {
      "cell_type": "code",
      "source": [
        "# Distributed Networks - Similated Practice\n",
        "\n",
        "import multiprocessing\n",
        "\n",
        "# Define a function that will be executed on a separate process\n",
        "def process_function(input_data):\n",
        "    # Perform some computation on the input data\n",
        "    result = input_data * 2\n",
        "    print(\"Process function result:\", result,\"\\n\")\n",
        "    return result\n",
        "\n",
        "if __name__ == '__main__':\n",
        "    # Create a process pool with 4 worker processes\n",
        "    with multiprocessing.Pool(processes=4) as pool:\n",
        "        # Define the input data for the processes\n",
        "        input_data = [1, 2, 3, 4]\n",
        "        # Use the map function to apply the process function to the input data\n",
        "        results = pool.map(process_function, input_data)\n",
        "        print(\"All results:\", results)\n",
        "\n",
        "# In this example, the script creates a process pool with 4 worker processes using the multiprocessing.Pool class. \n",
        "# It then defines a function called process_function that takes an input data and performs some computation on it \n",
        "# (in this case, it multiplies the input by 2).\n",
        "# The script then uses the map function of the process pool to apply the process_function to each element \n",
        "# of the input data. This is done in parallel across the 4 worker processes, which allows for faster computation times. \n",
        "# The results of each process are collected and returned in a list which is printed out.\n"
      ],
      "metadata": {
        "colab": {
          "base_uri": "https://localhost:8080/"
        },
        "id": "K_dAEAwRh_qF",
        "outputId": "0133e1f7-6652-4cea-a45d-d5d08419f6ea"
      },
      "execution_count": 7,
      "outputs": [
        {
          "output_type": "stream",
          "name": "stdout",
          "text": [
            "Process function result:Process function result:Process function result:  68  \n",
            "\n",
            "\n",
            "\n",
            " 2 \n",
            "\n",
            "Process function result: 4 \n",
            "\n",
            "All results: [2, 4, 6, 8]\n"
          ]
        }
      ]
    },
    {
      "cell_type": "code",
      "source": [],
      "metadata": {
        "id": "uOvi6Nc4iava"
      },
      "execution_count": null,
      "outputs": []
    }
  ],
  "metadata": {
    "colab": {
      "name": "scratchpad",
      "provenance": []
    },
    "kernelspec": {
      "display_name": "Python 3",
      "name": "python3"
    }
  },
  "nbformat": 4,
  "nbformat_minor": 0
}