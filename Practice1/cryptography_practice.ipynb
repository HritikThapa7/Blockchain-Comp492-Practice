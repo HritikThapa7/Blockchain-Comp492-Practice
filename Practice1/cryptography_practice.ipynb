{
  "cells": [
    {
      "cell_type": "markdown",
      "source": [
        "#Symmetric and Assymetric key Encryption"
      ],
      "metadata": {
        "id": "86gAZ_GkrapV"
      }
    },
    {
      "cell_type": "code",
      "execution_count": 44,
      "metadata": {
        "colab": {
          "base_uri": "https://localhost:8080/"
        },
        "id": "lIYdn1woOS1n",
        "outputId": "7aedc628-cf8a-4cfd-bf31-2f46ff74e4ca"
      },
      "outputs": [
        {
          "output_type": "stream",
          "name": "stdout",
          "text": [
            "Looking in indexes: https://pypi.org/simple, https://us-python.pkg.dev/colab-wheels/public/simple/\n",
            "Requirement already satisfied: cryptography in /usr/local/lib/python3.8/dist-packages (39.0.0)\n",
            "Requirement already satisfied: cffi>=1.12 in /usr/local/lib/python3.8/dist-packages (from cryptography) (1.15.1)\n",
            "Requirement already satisfied: pycparser in /usr/local/lib/python3.8/dist-packages (from cffi>=1.12->cryptography) (2.21)\n",
            "Looking in indexes: https://pypi.org/simple, https://us-python.pkg.dev/colab-wheels/public/simple/\n",
            "Requirement already satisfied: pycryptodome in /usr/local/lib/python3.8/dist-packages (3.17)\n",
            "Looking in indexes: https://pypi.org/simple, https://us-python.pkg.dev/colab-wheels/public/simple/\n",
            "Requirement already satisfied: kerberos in /usr/local/lib/python3.8/dist-packages (1.3.1)\n"
          ]
        }
      ],
      "source": [
        "#Symmetric-key Encryption\n",
        "!pip install cryptography\n",
        "!pip install pycryptodome\n",
        "!pip install kerberos"
      ]
    },
    {
      "cell_type": "markdown",
      "source": [
        "##Symmetric Encryption Practice"
      ],
      "metadata": {
        "id": "QYq1GBFGrh8t"
      }
    },
    {
      "cell_type": "code",
      "source": [
        "#Practice symmetric encryption\n",
        "#Using Fernet to generate the key\n",
        "\n",
        "from cryptography.fernet import Fernet\n",
        "\n",
        "message = \"Lets start blockchain\"\n",
        "\n",
        "#Generating an encryptin key using Fernet\n",
        "key = Fernet.generate_key()\n",
        "\n",
        "#Instantiate the class with the encryption key\n",
        "fernet = Fernet(key)\n",
        "\n",
        "#Encode byte string before encryption\n",
        "encryptMessage = fernet.encrypt(message.encode())\n",
        "\n",
        "print(\"Original String: \", message)\n",
        "print(\"Encrypted String: \", encryptMessage)\n",
        "\n",
        "#Decrypting using the same key\n",
        "decryptMessage = fernet.decrypt(encryptMessage).decode()\n",
        "print(\"Decrypted String: \", decryptMessage)"
      ],
      "metadata": {
        "colab": {
          "base_uri": "https://localhost:8080/"
        },
        "id": "VG2J8mlSpaZm",
        "outputId": "92282679-a083-4d2c-ffaf-b5fad190e770"
      },
      "execution_count": 45,
      "outputs": [
        {
          "output_type": "stream",
          "name": "stdout",
          "text": [
            "Original String:  Lets start blockchain\n",
            "Encrypted String:  b'gAAAAABj17FC1z9VuNNuiDBPagwRJalSel12rfauN6gh0w-eqKyXIkrA7q0mkCkdNzpr1Rxf0x9I-6OfO8VrjJZgKC-PHcuyaLC4ysM6LUC3zoL8m6gb0fU='\n",
            "Decrypted String:  Lets start blockchain\n"
          ]
        }
      ]
    },
    {
      "cell_type": "markdown",
      "source": [
        "###Substitution Ciphers"
      ],
      "metadata": {
        "id": "FAqdW8bUrszA"
      }
    },
    {
      "cell_type": "markdown",
      "source": [
        "####Caeser Cipher"
      ],
      "metadata": {
        "id": "h3ShLLEe7ms-"
      }
    },
    {
      "cell_type": "code",
      "source": [
        "#Caeser Cipher\n",
        "def encrypt(text,s):\n",
        "  result = \"\"\n",
        "\n",
        "  for i in range(len(text)):\n",
        "    char = text[i]\n",
        "\n",
        "    # Encrypt uppercase characters\n",
        "    if(char.isupper()):\n",
        "      result += chr((ord(char) - 65 + s) % 26 + 65)\n",
        "    # Encrypt lowercase characters\n",
        "    elif(char.islower()):\n",
        "      result += chr((ord(char) - 97 + s) % 26 + 97)\n",
        "    else:\n",
        "      result += chr((ord(char)))\n",
        "  return result\n",
        "\n",
        "def decrypt(text,s):\n",
        "  result = \"\"\n",
        "\n",
        "  for i in range(len(text)):\n",
        "    char = text[i]\n",
        "\n",
        "    # Decrypt uppercase characters\n",
        "    if(char.isupper()):\n",
        "      result += chr((ord(char) - 65 - s) % 26 + 65)\n",
        "    # Decrypt lowercase characters\n",
        "    elif(char.islower()):\n",
        "      result += chr((ord(char) - 97 - s) % 26 + 97)\n",
        "    else:\n",
        "      result += chr((ord(char)))\n",
        "  return result\n",
        "\n",
        "text = \"Lets start blockchain!\"\n",
        "shift = 5\n",
        "print(\"Original String: \" + text)\n",
        "print(\"Shift: \" + str(shift))\n",
        "encryptMessage = encrypt(text,shift)\n",
        "print(\"Encrypted String: \" + encryptMessage)\n",
        "decryptMessage = decrypt(encryptMessage, shift)\n",
        "print(\"Decrypted Message: \" + decryptMessage)\n"
      ],
      "metadata": {
        "colab": {
          "base_uri": "https://localhost:8080/"
        },
        "id": "8NuBvuHArp5w",
        "outputId": "833070d4-1a18-4cdd-e8b9-4ff66199c4e0"
      },
      "execution_count": 46,
      "outputs": [
        {
          "output_type": "stream",
          "name": "stdout",
          "text": [
            "Original String: Lets start blockchain!\n",
            "Shift: 5\n",
            "Encrypted String: Qjyx xyfwy gqthphmfns!\n",
            "Decrypted Message: Lets start blockchain!\n"
          ]
        }
      ]
    },
    {
      "cell_type": "markdown",
      "source": [
        "The code \"chr((ord(char) + s - 65) % 26 + 65)\" takes an ASCII character \"char\" and applies a Caesar cipher encryption to it by first converting the character to its ASCII code using the \"ord\" function, then adding the shift \"s\" to the code, then applying the modulo operator \" % 26\" to ensure the result stays within the range of the ASCII codes for capital letters (65 to 90). Finally, the encrypted character is converted back to its original form using the \"chr\" function and returned."
      ],
      "metadata": {
        "id": "J5HHSSGb7fLm"
      }
    },
    {
      "cell_type": "markdown",
      "source": [
        "####Monoalphabetic Cipher"
      ],
      "metadata": {
        "id": "JGGgD5wS7s6X"
      }
    },
    {
      "cell_type": "code",
      "source": [
        "# Practice for Monoalphabetic Cipher \n",
        "inputTextMap  = 'ABCDEFGHIJKLMNOPQRSTUVWXYZabcdefghijklmnopqrstuvwxyz'\n",
        "outputTextMap = 'NOPQRSTUVWXYZABCDEFGHIJKLMnopqrstuvwxyzabcdefghijklm'\n",
        "\n",
        "message = 'Lets start blockchain!'\n",
        "#zip takes iterable and returns an iterator\n",
        "#Iterator generates a series of tuples containing elements from each iterable\n",
        "#ord returns the number representing the unicode code of a specified character\n",
        "#Encrypt the message\n",
        "encryptMessage = message.translate({ord(x): y for (x, y) in zip(inputTextMap, outputTextMap)})\n",
        "print(\"Original string: \", message)\n",
        "print(\"Encrypted string: \", encryptMessage)\n",
        "\n",
        "#Decrypting the Message\n",
        "decryptMessage = encryptMessage.translate({ord(x): y for (x, y) in zip(outputTextMap, inputTextMap)})\n",
        "print(\"Decrypted string: \", decryptMessage)"
      ],
      "metadata": {
        "colab": {
          "base_uri": "https://localhost:8080/"
        },
        "id": "_DkmrEQgw01k",
        "outputId": "bc2054b9-ecf2-483b-a475-86cd5f540d33"
      },
      "execution_count": 47,
      "outputs": [
        {
          "output_type": "stream",
          "name": "stdout",
          "text": [
            "Original string:  Lets start blockchain!\n",
            "Encrypted string:  Yrgf fgneg oybpxpunva!\n",
            "Decrypted string:  Lets start blockchain!\n"
          ]
        }
      ]
    },
    {
      "cell_type": "markdown",
      "source": [
        "####Polyalphabetic Cipher"
      ],
      "metadata": {
        "id": "QlOS-mvA8O5s"
      }
    },
    {
      "cell_type": "code",
      "source": [
        "# Practice for Substitution Ciphers - Polyalphabetic cipher or Vigenere cipher #10\n",
        "# Another implementation\n",
        "import string\n",
        "\n",
        "def encrypt(plaintext, key):\n",
        "    alphabet = string.ascii_lowercase\n",
        "    key = key.lower()\n",
        "    key_repeated = key * (len(plaintext) // len(key) + 1)\n",
        "    key_used = key_repeated[:len(plaintext)]\n",
        "    ciphertext = \"\"\n",
        "    for i in range(len(plaintext)):\n",
        "        if plaintext[i].isalpha():\n",
        "            char_index = (alphabet.index(plaintext[i].lower()) +\n",
        "                        alphabet.index(key_used[i])) % 26\n",
        "            if plaintext[i].isupper():\n",
        "                ciphertext += alphabet[char_index].upper()\n",
        "            else:\n",
        "                ciphertext += alphabet[char_index]\n",
        "        else:\n",
        "            ciphertext += plaintext[i]\n",
        "    return ciphertext\n",
        "\n",
        "def decrypt(ciphertext, key):\n",
        "    alphabet = string.ascii_lowercase\n",
        "    key = key.lower()\n",
        "    key_repeated = key * (len(ciphertext) // len(key) + 1)\n",
        "    key_used = key_repeated[:len(ciphertext)]\n",
        "    plaintext = \"\"\n",
        "    for i in range(len(ciphertext)):\n",
        "        if ciphertext[i].isalpha():\n",
        "            char_index = (alphabet.index(ciphertext[i].lower()) -\n",
        "                        alphabet.index(key_used[i])) % 26\n",
        "            if ciphertext[i].isupper():\n",
        "                plaintext += alphabet[char_index].upper()\n",
        "            else:\n",
        "                plaintext += alphabet[char_index]\n",
        "        else:\n",
        "            plaintext += ciphertext[i]\n",
        "    return plaintext\n",
        "\n",
        "# Test the functions\n",
        "message = \"Lets start blockchain!\"\n",
        "key = \"secret\"\n",
        "ciphertext = encrypt(message, key)\n",
        "print(\"Original String: \", message)\n",
        "print(\"Ciphertext: \", ciphertext)\n",
        "decrypted_text = decrypt(ciphertext, key)\n",
        "print(\"Decrypted Text: \", decrypted_text)\n"
      ],
      "metadata": {
        "colab": {
          "base_uri": "https://localhost:8080/"
        },
        "id": "EgfQiQJN8nk_",
        "outputId": "790f0a1a-2efd-443b-de37-05d9ab2450bf"
      },
      "execution_count": 48,
      "outputs": [
        {
          "output_type": "stream",
          "name": "stdout",
          "text": [
            "Original String:  Lets start blockchain!\n",
            "Ciphertext:  Divj lletk udsebgasmp!\n",
            "Decrypted Text:  Lets start blockchain!\n"
          ]
        }
      ]
    },
    {
      "cell_type": "code",
      "source": [
        "# Practice for Polyalphabetic cipher or Vigenere cipher (Alternative Implementation)\n",
        "import string\n",
        "ALPHABET = string.ascii_lowercase\n",
        "CHARACTERS_THAT_MUST_REMAIN_THE_SAME = string.digits + string.punctuation + string.whitespace\n",
        "# returns the letter at the index position \n",
        "def cycle_get(lst,index):\n",
        "    new_index = index % len(lst)\n",
        "    return(lst[new_index])\n",
        "#increase the index position of the key by 1\n",
        "def cycle_increment_index(index,lst):\n",
        "    if index == len(lst) - 1:\n",
        "        index = 0\n",
        "    else:\n",
        "        index += 1\n",
        "    return(index)\n",
        "\n",
        "#returns the shifted letter\n",
        "def shift(letter,value):\n",
        "    current_letter_value = ALPHABET.find(letter)\n",
        "    end_value = current_letter_value + value\n",
        "    return(cycle_get(ALPHABET,end_value))\n",
        "\n",
        "#converts the key into a list of integer values \n",
        "def convert_key_to_numbers(key):\n",
        "    return([ALPHABET.find(i) for i in key])\n",
        "\n",
        "#Reverse Operations used to re-use the encryption in decryption too\n",
        "def encrypt(text,key,reverse_operation=False):\n",
        "    text = text.lower()\n",
        "    key = convert_key_to_numbers(key)\n",
        "    index_of_key = 0\n",
        "    result = \"\"\n",
        "    for char in text:\n",
        "        if char in CHARACTERS_THAT_MUST_REMAIN_THE_SAME:\n",
        "            result += char\n",
        "        else:\n",
        "            if not reverse_operation:\n",
        "                result += shift(char,key[index_of_key])\n",
        "            else:\n",
        "                result += shift(char,- key[index_of_key])\n",
        "            index_of_key = cycle_increment_index(index_of_key,key)\n",
        "    return(result)\n",
        "\n",
        "def decrypt(text,key):\n",
        "    return(encrypt(text,key,reverse_operation=True))\n",
        "\n",
        "message = 'lets start blockchain in lower case!'\n",
        "secret = 'my_secretmy_secretmy_secret'\n",
        "secret1 = 'my_secret1my_secret1my_secret1'\n",
        "\n",
        "\n",
        "encryptMessage = encrypt(message,secret,False)\n",
        "decryptMessage = decrypt(encryptMessage,secret)\n",
        "\n",
        "print(\"Original string: \", message)\n",
        "print(\"Encrypted string: \", encryptMessage)\n",
        "print(\"Decrypted string: \", decryptMessage)"
      ],
      "metadata": {
        "colab": {
          "base_uri": "https://localhost:8080/"
        },
        "id": "SDxe817q8Mgd",
        "outputId": "ed5fa370-fe95-4a07-981c-6b1a4be1515e"
      },
      "execution_count": 49,
      "outputs": [
        {
          "output_type": "stream",
          "name": "stdout",
          "text": [
            "Original string:  lets start blockchain in lower case!\n",
            "Encrypted string:  xcsk wvrvm njnuoeyebz gm dsyvv vmqd!\n",
            "Decrypted string:  lets start blockchain in lower case!\n"
          ]
        }
      ]
    },
    {
      "cell_type": "markdown",
      "source": [
        "####Substitution Cipher using key to shift alphabet"
      ],
      "metadata": {
        "id": "jTmL5O9H9oc-"
      }
    },
    {
      "cell_type": "code",
      "source": [
        "# Practice for Substitution Cipher - Using  key to shift alphabet \n",
        "# In the example, lower case letters example considered\n",
        "# TODO:\n",
        "# Upper case and mixed case example to consider\n",
        "import string\n",
        "\n",
        "def shift_alphabet(key):\n",
        "    # Substring from Key to end, and starting to key \n",
        "    shifted_alphabet = string.ascii_lowercase[key:] + string.ascii_lowercase[:key]\n",
        "    return shifted_alphabet\n",
        "\n",
        "#encrypts the plaintext by shifting each letter of the \n",
        "# plaintext by the key positions shifted alphabet\n",
        "def encrypt(plaintext, key):\n",
        "    shifted_alphabet = shift_alphabet(key)\n",
        "    plaintext = plaintext.lower()\n",
        "    ciphertext = \"\"\n",
        "    for char in plaintext:\n",
        "        if char in string.ascii_lowercase:\n",
        "            index = string.ascii_lowercase.index(char)\n",
        "            ciphertext += shifted_alphabet[index]\n",
        "        else:\n",
        "            ciphertext += char\n",
        "    return ciphertext\n",
        "\n",
        "def decrypt(ciphertext, key):\n",
        "    shifted_alphabet = shift_alphabet(key)\n",
        "    plaintext = \"\"\n",
        "    for char in ciphertext:\n",
        "        if char in shifted_alphabet:\n",
        "            index = shifted_alphabet.index(char)\n",
        "            plaintext += string.ascii_lowercase[index]\n",
        "        else:\n",
        "            plaintext += char\n",
        "    return plaintext\n",
        "\n",
        "message = \"Lets start blockchain!\"\n",
        "key = 3\n",
        "print(\"Originl message\", message)\n",
        "encrypt_message = encrypt(message, key)\n",
        "print(\"Encrypted message: \", encrypt_message)\n",
        "\n",
        "decrypt_message = decrypt(encrypt_message, key)\n",
        "print(\"Decrypted message: \", decrypt_message)\n"
      ],
      "metadata": {
        "colab": {
          "base_uri": "https://localhost:8080/"
        },
        "id": "VoCxOd3o9wAT",
        "outputId": "05c8918f-5878-4a95-8746-f2ce6f26223f"
      },
      "execution_count": 50,
      "outputs": [
        {
          "output_type": "stream",
          "name": "stdout",
          "text": [
            "Originl message Lets start blockchain!\n",
            "Encrypted message:  ohwv vwduw eorfnfkdlq!\n",
            "Decrypted message:  lets start blockchain!\n"
          ]
        }
      ]
    },
    {
      "cell_type": "markdown",
      "source": [
        "###Transposition Ciphers"
      ],
      "metadata": {
        "id": "5KMSH58i-B0U"
      }
    },
    {
      "cell_type": "code",
      "source": [
        "# Practice for Transposition Cipher  Columnar Transposition #12\n",
        "# Reference - https://www.geeksforgeeks.org/columnar-transposition-cipher/\n",
        "import math\n",
        "    \n",
        "# Encryption\n",
        "def encrypt(msg,key):\n",
        "    cipher = \"\"\n",
        "  \n",
        "    # track key indices\n",
        "    k_indx = 0\n",
        "  \n",
        "    msg_len = float(len(msg))\n",
        "    msg_lst = list(msg)\n",
        "    key_lst = sorted(list(key))\n",
        "  \n",
        "    # calculate column of the matrix\n",
        "    col = len(key)\n",
        "      \n",
        "    # calculate maximum row of the matrix\n",
        "    row = int(math.ceil(msg_len / col))\n",
        "  \n",
        "    # add the padding character '_' in empty\n",
        "    # the empty cell of the matix \n",
        "    fill_null = int((row * col) - msg_len)\n",
        "    msg_lst.extend('_' * fill_null)\n",
        "  \n",
        "    # create Matrix and insert message and \n",
        "    # padding characters row-wise \n",
        "    matrix = [msg_lst[i: i + col] \n",
        "              for i in range(0, len(msg_lst), col)]\n",
        "  \n",
        "    # read matrix column-wise using key\n",
        "    for _ in range(col):\n",
        "        curr_idx = key.index(key_lst[k_indx])\n",
        "        cipher += ''.join([row[curr_idx] \n",
        "                          for row in matrix])\n",
        "        k_indx += 1\n",
        "  \n",
        "    return cipher\n",
        "  \n",
        "# Decryption\n",
        "def decrypt(cipher, key):\n",
        "    msg = \"\"\n",
        "  \n",
        "    # track key indices\n",
        "    k_indx = 0\n",
        "  \n",
        "    # track msg indices\n",
        "    msg_indx = 0\n",
        "    msg_len = float(len(cipher))\n",
        "    msg_lst = list(cipher)\n",
        "  \n",
        "    # calculate column of the matrix\n",
        "    col = len(key)\n",
        "      \n",
        "    # calculate maximum row of the matrix\n",
        "    row = int(math.ceil(msg_len / col))\n",
        "  \n",
        "    # convert key into list and sort \n",
        "    # alphabetically so we can access \n",
        "    # each character by its alphabetical position.\n",
        "    key_lst = sorted(list(key))\n",
        "  \n",
        "    # create an empty matrix to \n",
        "    # store deciphered message\n",
        "    dec_cipher = []\n",
        "    for _ in range(row):\n",
        "        dec_cipher += [[None] * col]\n",
        "  \n",
        "    # Arrange the matrix column wise according \n",
        "    # to permutation order by adding into new matrix\n",
        "    for _ in range(col):\n",
        "        curr_idx = key.index(key_lst[k_indx])\n",
        "  \n",
        "        for j in range(row):\n",
        "            dec_cipher[j][curr_idx] = msg_lst[msg_indx]\n",
        "            msg_indx += 1\n",
        "        k_indx += 1\n",
        "  \n",
        "    # convert decrypted msg matrix into a string\n",
        "    try:\n",
        "        msg = ''.join(sum(dec_cipher, []))\n",
        "    except TypeError:\n",
        "        raise TypeError(\"This program cannot\",\n",
        "                        \"handle repeating words.\")\n",
        "  \n",
        "    null_count = msg.count('_')\n",
        "  \n",
        "    if null_count > 0:\n",
        "        return msg[: -null_count]\n",
        "  \n",
        "    return msg\n",
        "  \n",
        "# Driver Code\n",
        "message = \"Lets start blockchain!\"\n",
        "key = \"1234567890\"\n",
        "print(\"Original Message:\", message)\n",
        "cipher = encrypt(message,key)\n",
        "print(\"Encrypted Message:\", cipher)\n",
        "print(\"Decryped Message:\",decrypt(cipher,key))\n",
        "\n"
      ],
      "metadata": {
        "colab": {
          "base_uri": "https://localhost:8080/"
        },
        "id": "dVzILY_49zan",
        "outputId": "bc524138-e6ce-43bf-9a58-94405d06f8e6"
      },
      "execution_count": 51,
      "outputs": [
        {
          "output_type": "stream",
          "name": "stdout",
          "text": [
            "Original Message: Lets start blockchain!\n",
            "Encrypted Message: ti_L neb!tl_so_ c_sk_tc_ah_ra_\n",
            "Decryped Message: Lets start blockchain!\n"
          ]
        }
      ]
    },
    {
      "cell_type": "markdown",
      "source": [
        "### DES - Data Encryption Standard"
      ],
      "metadata": {
        "id": "ptSOrXPh_VtB"
      }
    },
    {
      "cell_type": "code",
      "source": [
        "!pip install Crypto"
      ],
      "metadata": {
        "colab": {
          "base_uri": "https://localhost:8080/"
        },
        "id": "Us9r3n5z-syO",
        "outputId": "0ee91aec-9650-4123-8e7a-df8793260428"
      },
      "execution_count": 52,
      "outputs": [
        {
          "output_type": "stream",
          "name": "stdout",
          "text": [
            "Looking in indexes: https://pypi.org/simple, https://us-python.pkg.dev/colab-wheels/public/simple/\n",
            "Requirement already satisfied: Crypto in /usr/local/lib/python3.8/dist-packages (1.4.1)\n",
            "Requirement already satisfied: Naked in /usr/local/lib/python3.8/dist-packages (from Crypto) (0.1.32)\n",
            "Requirement already satisfied: shellescape in /usr/local/lib/python3.8/dist-packages (from Crypto) (3.8.1)\n",
            "Requirement already satisfied: pyyaml in /usr/local/lib/python3.8/dist-packages (from Naked->Crypto) (6.0)\n",
            "Requirement already satisfied: requests in /usr/local/lib/python3.8/dist-packages (from Naked->Crypto) (2.25.1)\n",
            "Requirement already satisfied: certifi>=2017.4.17 in /usr/local/lib/python3.8/dist-packages (from requests->Naked->Crypto) (2022.12.7)\n",
            "Requirement already satisfied: urllib3<1.27,>=1.21.1 in /usr/local/lib/python3.8/dist-packages (from requests->Naked->Crypto) (1.24.3)\n",
            "Requirement already satisfied: idna<3,>=2.5 in /usr/local/lib/python3.8/dist-packages (from requests->Naked->Crypto) (2.10)\n",
            "Requirement already satisfied: chardet<5,>=3.0.2 in /usr/local/lib/python3.8/dist-packages (from requests->Naked->Crypto) (4.0.0)\n"
          ]
        }
      ]
    },
    {
      "cell_type": "code",
      "source": [
        "from Crypto.Cipher import DES\n",
        "\n",
        "#Key must be 8 bytes long\n",
        "key = b'12345678'\n",
        "\n",
        "# Initialization vector (IV) must be 8 bytes long as well\n",
        "iv = b'12345678'\n",
        "\n",
        "#Create a new DES cipher object\n",
        "cipher = DES.new(key, DES.MODE_CBC, iv)\n",
        "\n",
        "plaintext = b'Lets start blockchain!'\n",
        "print(\"Original Message: \", plaintext)\n",
        "\n",
        "# Padding plaintext if necessary\n",
        "pad = 8 - (len(plaintext) % 8)\n",
        "plaintext += bytes([pad]) * pad\n",
        "\n",
        "#Encrypt the plaintext\n",
        "ciphertext = cipher.encrypt(plaintext)\n",
        "print(\"Encrypted Messaged:\", ciphertext)\n",
        "\n",
        "#Create a new DES cipher object\n",
        "cipher1 = DES.new(key, DES.MODE_CBC, iv)\n",
        "\n",
        "#Decrypt the ciphertext\n",
        "plaintext1 = cipher1.decrypt(ciphertext)[:-plaintext[-1]]\n",
        "print(\"Decryoted Message:\", plaintext1)\n"
      ],
      "metadata": {
        "colab": {
          "base_uri": "https://localhost:8080/"
        },
        "id": "D-xFuWsoBL-a",
        "outputId": "b704d66d-9ec6-43be-c919-c949742761b6"
      },
      "execution_count": 53,
      "outputs": [
        {
          "output_type": "stream",
          "name": "stdout",
          "text": [
            "Original Message:  b'Lets start blockchain!'\n",
            "Encrypted Messaged: b'\\x11\\x14\\xba\\xce\\x01\\xb8\\x86\\x16\\x00y}\\xbe\\x93\\x08Ovg\\x0f\\n\\xf45x\\xe6\\xc5'\n",
            "Decryoted Message: b'Lets start blockchain!'\n"
          ]
        }
      ]
    },
    {
      "cell_type": "markdown",
      "source": [
        "##Assymetric Encryption Practice"
      ],
      "metadata": {
        "id": "8d80nWPCDx40"
      }
    },
    {
      "cell_type": "code",
      "source": [
        "!pip install rsa"
      ],
      "metadata": {
        "colab": {
          "base_uri": "https://localhost:8080/"
        },
        "id": "SyJDicbFBghe",
        "outputId": "0a3c3df5-d30c-40c2-8bfc-3c1a7b10d499"
      },
      "execution_count": 54,
      "outputs": [
        {
          "output_type": "stream",
          "name": "stdout",
          "text": [
            "Looking in indexes: https://pypi.org/simple, https://us-python.pkg.dev/colab-wheels/public/simple/\n",
            "Requirement already satisfied: rsa in /usr/local/lib/python3.8/dist-packages (4.9)\n",
            "Requirement already satisfied: pyasn1>=0.1.3 in /usr/local/lib/python3.8/dist-packages (from rsa) (0.4.8)\n"
          ]
        }
      ]
    },
    {
      "cell_type": "markdown",
      "source": [
        "###RSA"
      ],
      "metadata": {
        "id": "TIr3ZhhaEHTy"
      }
    },
    {
      "cell_type": "code",
      "source": [
        "import rsa\n",
        "\n",
        "# Generating public and private keys with key length 512\n",
        "publicKey, privateKey = rsa.newkeys(512)\n",
        "\n",
        "# Message to encrypt\n",
        "message = \"Lets start blockchain!\"\n",
        "\n",
        "#Encrypting\n",
        "encryptMessage = rsa.encrypt(message.encode(), publicKey)\n",
        "print(\"Original string: \", message)\n",
        "print(\"Encrypted string: \", encryptMessage)\n",
        "\n",
        "#Decrypting\n",
        "decryptMessage = rsa.decrypt(encryptMessage, privateKey).decode()\n",
        "print(\"Decrypted string: \", decryptMessage)"
      ],
      "metadata": {
        "colab": {
          "base_uri": "https://localhost:8080/"
        },
        "id": "yH281ByjECls",
        "outputId": "e0426f43-4db9-4c8a-d7ff-7f13ae22747c"
      },
      "execution_count": 55,
      "outputs": [
        {
          "output_type": "stream",
          "name": "stdout",
          "text": [
            "Original string:  Lets start blockchain!\n",
            "Encrypted string:  b\"\\tc\\x1dv\\x04\\xf4I~\\xec'F\\xa2\\xdfU\\x8f\\xfaHP\\xa6\\xfe\\xfc\\xb5\\x84\\x9f\\xa4\\xd6\\x82o\\xc5\\xaal\\x07\\xd3\\xa41\\n`0\\x04\\x1eN\\xc6\\xc2>\\xe1\\xf8\\xcd\\xedG#7\\x9a\\x97=\\xef'\\xf8QQ\\xd6-\\x06\\x1f\\xa0\"\n",
            "Decrypted string:  Lets start blockchain!\n"
          ]
        }
      ]
    },
    {
      "cell_type": "markdown",
      "source": [
        "###Assymetric Encryption Session Key"
      ],
      "metadata": {
        "id": "c2zkc2d2FTZ1"
      }
    },
    {
      "cell_type": "code",
      "source": [
        "from Crypto.Cipher import DES, PKCS1_OAEP\n",
        "from Crypto.Random import get_random_bytes\n",
        "from Crypto.PublicKey import RSA\n",
        "\n",
        "# Generate a random session key for DES encryption\n",
        "session_key = get_random_bytes(8)\n",
        "\n",
        "# Generate RSA key (Private-Public Key pair)\n",
        "private_key = RSA.generate(2048)\n",
        "public_key = private_key.publickey()\n",
        "\n",
        "#Encrypt the session key with the public RSA key\n",
        "rsa_encrypt = PKCS1_OAEP.new(public_key)\n",
        "enc_session_key = rsa_encrypt.encrypt(session_key)\n",
        "\n",
        "#Using DES to encrypt the data\n",
        "data = b'Lets start blockchain in Kathmandu University!'\n",
        "print(\"Original Message: \", data)\n",
        "\n",
        "#Padding if necessary\n",
        "pad = 8 - (len(data) % 8)\n",
        "data += bytes([pad]) * pad\n",
        "\n",
        "cipher_des_en = DES.new(session_key, DES.MODE_CBC, session_key)\n",
        "ciphertext = cipher_des_en.encrypt(data)\n",
        "print(\"Encrypted Message:\", ciphertext)\n",
        "\n",
        "#Now to decrypt the data\n",
        "#First decrypt the session key using RSA\n",
        "rsa_decrypt = PKCS1_OAEP.new(private_key)\n",
        "session_key = rsa_decrypt.decrypt(enc_session_key)\n",
        "\n",
        "#USe DES to decrypt the data\n",
        "cipher_des_dc = DES.new(session_key, DES.MODE_CBC, session_key)\n",
        "plaintext = cipher_des_dc.decrypt(ciphertext)\n",
        "\n",
        "#Remove any padding\n",
        "plaintext = plaintext[:-plaintext[-1]]\n",
        "print(\"Decrypted Message:\", plaintext)"
      ],
      "metadata": {
        "colab": {
          "base_uri": "https://localhost:8080/"
        },
        "id": "gzjb4POGE6Yd",
        "outputId": "dbbbc315-f363-47fa-e9c1-d46e23b1320c"
      },
      "execution_count": 56,
      "outputs": [
        {
          "output_type": "stream",
          "name": "stdout",
          "text": [
            "Original Message:  b'Lets start blockchain in Kathmandu University!'\n",
            "Encrypted Message: b\"WFH\\xb4-!\\x04G\\xe4\\xc2C\\ry,\\x0e\\x0f~JHD\\\\eVK'\\x1e\\x84\\xb9GLn\\t\\xf8\\x97\\xc0\\xfd\\x88\\x94r\\t>\\x82ES\\xf9L\\x99Y\"\n",
            "Decrypted Message: b'Lets start blockchain in Kathmandu University!'\n"
          ]
        }
      ]
    },
    {
      "cell_type": "markdown",
      "source": [
        "###Diffie-Hellman (DH) Algorithm"
      ],
      "metadata": {
        "id": "Uklz6mMAiofn"
      }
    },
    {
      "cell_type": "code",
      "source": [
        "from hashlib import sha256\n",
        "from random import randint\n",
        "\n",
        "# A large prime number\n",
        "p = 23\n",
        "\n",
        "# A primitive root of p\n",
        "g = 5\n",
        "\n",
        "# Secret key for Alice\n",
        "a = randint(1, p-1)\n",
        "\n",
        "# Secret key for Bob\n",
        "b = randint(1, p-1)\n",
        "\n",
        "# Generate the public keys\n",
        "A = pow(g, a, p)\n",
        "B = pow(g, b, p)\n",
        "\n",
        "# Exchange the public keys\n",
        "\n",
        "# Generate the shared secret key\n",
        "s_alice = pow(B, a, p)\n",
        "s_bob = pow(A, b, p)\n",
        "\n",
        "# Hash the shared secret key to generate a session key\n",
        "session_key_alice = sha256(str(s_alice).encode()).hexdigest()\n",
        "session_key_bob = sha256(str(s_bob).encode()).hexdigest()\n",
        "\n",
        "print(\"session_key_alice:\",session_key_alice)\n",
        "print(\"session_key_bob:\",session_key_bob)\n",
        "\n",
        "# Now the session_key_alice and session_key_bob are the same and can be used for symmetric encryption\n",
        "# Now the session_key_alice and session_key_bob can be used for symmetric encryption\n"
      ],
      "metadata": {
        "colab": {
          "base_uri": "https://localhost:8080/"
        },
        "id": "_N5OVlHUobsZ",
        "outputId": "c7be300b-bf0d-4b12-d8d9-b610b10de578"
      },
      "execution_count": 61,
      "outputs": [
        {
          "output_type": "stream",
          "name": "stdout",
          "text": [
            "session_key_alice: 4e07408562bedb8b60ce05c1decfe3ad16b72230967de01f640b7e4729b49fce\n",
            "session_key_bob: 4e07408562bedb8b60ce05c1decfe3ad16b72230967de01f640b7e4729b49fce\n"
          ]
        }
      ]
    },
    {
      "cell_type": "markdown",
      "source": [
        "## Authentication\n"
      ],
      "metadata": {
        "id": "uCbaeTBJlfpA"
      }
    },
    {
      "cell_type": "markdown",
      "source": [
        "### Authentication with Message Digests"
      ],
      "metadata": {
        "id": "_AJYwGyWk3_e"
      }
    },
    {
      "cell_type": "code",
      "source": [
        "import hashlib\n",
        "\n",
        "message = b'Lets start blockchain!'\n",
        "\n",
        "#Calculating message digest\n",
        "digest = hashlib.sha256(message).hexdigest()\n",
        "\n",
        "#Send the message and the digest to the recipient\n",
        "# ...\n",
        "\n",
        "#The recipient receives the message and the digest\n",
        "received_message = message\n",
        "received_digest = digest\n",
        "\n",
        "# Calculate the message digest of the received message\n",
        "calculated_digest = hashlib.sha256(received_message).hexdigest()\n",
        "\n",
        "#Compare the received digest and the calculated digest\n",
        "print(\"Case#1 - no tampered message\")\n",
        "if received_digest == calculated_digest:\n",
        "  print(\"The message is authentic\")\n",
        "else:\n",
        "  print(\"The message may have been tampered\")\n",
        "\n",
        "# The recipient receives the message and the digest\n",
        "# Tampered message where full stop added at the end of message\n",
        "received_message = message + b\".\"\n",
        "received_digest = digest\n",
        "\n",
        "# Calculate the message digest of the received message\n",
        "calculated_digest = hashlib.sha256(received_message).hexdigest()\n",
        "\n",
        "# Compare the received digest and the calculated digest\n",
        "print(\"Case#2 - Message Tempaered, full stop added at the end of message\")\n",
        "if received_digest == calculated_digest:\n",
        "    print(\"The message is authentic\")\n",
        "else:\n",
        "    print(\"The message may have been tampered\")\n"
      ],
      "metadata": {
        "colab": {
          "base_uri": "https://localhost:8080/"
        },
        "id": "9uINP-w4i15R",
        "outputId": "76073938-2ddb-4c5e-fbaf-d82ea3793ef0"
      },
      "execution_count": 62,
      "outputs": [
        {
          "output_type": "stream",
          "name": "stdout",
          "text": [
            "Case#1 - no tampered message\n",
            "The message is authentic\n",
            "Case#2 - Message Tempaered, full stop added at the end of message\n",
            "The message may have been tampered\n"
          ]
        }
      ]
    },
    {
      "cell_type": "markdown",
      "source": [
        "### Password Authentication\n"
      ],
      "metadata": {
        "id": "jAzJc3SsmV4U"
      }
    },
    {
      "cell_type": "code",
      "source": [
        "import hashlib\n",
        "\n",
        "# The hashed password that is stored in the database\n",
        "# Assuming that p@$$w0rd is the password stored in the database\n",
        "hashed_password = hashlib.sha256(b'p@$$w0rd').hexdigest()\n",
        "\n",
        "# The user enters their password\n",
        "password_provided = input(\"Enter your password: \").encode()\n",
        "\n",
        "# Hash the entered password\n",
        "entered_password = hashlib.sha256(password_provided).hexdigest()\n",
        "\n",
        "# Compare the entered password with the stored password\n",
        "if entered_password == hashed_password:\n",
        "    print(\"Access granted\")\n",
        "else:\n",
        "    print(\"Access denied, wrong password attempt!\")"
      ],
      "metadata": {
        "colab": {
          "base_uri": "https://localhost:8080/"
        },
        "id": "QgY8vxPamON8",
        "outputId": "7654f419-9d0f-4b03-c299-f1f810b76410"
      },
      "execution_count": 64,
      "outputs": [
        {
          "output_type": "stream",
          "name": "stdout",
          "text": [
            "Enter your password: p@$$w0rd\n",
            "Access granted\n"
          ]
        }
      ]
    },
    {
      "cell_type": "markdown",
      "source": [
        "### Kerberos Authentication\n"
      ],
      "metadata": {
        "id": "Qe0Rs-xZmqin"
      }
    },
    {
      "cell_type": "code",
      "source": [
        "# Layout for Kerberos implementation \n",
        "#\n",
        "# Kerberos is a network authentication protocol that uses symmetric key \n",
        "# encryption and a key distribution center (KDC) to securely authenticate \n",
        "# users and servers. Implementing Kerberos in Python can be quite complex, \n",
        "# as it involves several steps and requires a good understanding of the \n",
        "# Kerberos protocol.\n",
        "import kerberos\n",
        "\n",
        "# The service principal to authenticate to\n",
        "service = \"HTTP/example.com\"\n",
        "\n",
        "# The user principal to authenticate as\n",
        "user = \"user@EXAMPLE.COM\"\n",
        "\n",
        "# ...\n",
        "# setup kerberos is required here\n",
        "# ...\n",
        "# Request a Kerberos ticket-granting ticket\n",
        "#(authenticator, context) = kerberos.authGSSClientInit(service)\n",
        "#kerberos.authGSSClientStep(context, \"\")\n",
        "\n",
        "# Use the authenticated connection\n",
        "# ...\n",
        "\n",
        "# Release the Kerberos context\n",
        "#kerberos.authGSSClientClean(context)"
      ],
      "metadata": {
        "id": "BZUa2_ySmek8"
      },
      "execution_count": 65,
      "outputs": []
    },
    {
      "cell_type": "markdown",
      "source": [
        "### Digital Signatures"
      ],
      "metadata": {
        "id": "isMQoVnBnZBM"
      }
    },
    {
      "cell_type": "code",
      "source": [
        "# Practice for Digital Signature in the authentication process\n",
        "#\n",
        "# Digital signatures are a method of authenticating the identity \n",
        "# of the sender of a message and verifying the integrity of the message \n",
        "# by using a private key to sign the message, and a public key to verify \n",
        "# the signature.\n",
        "\n",
        "from Crypto.PublicKey import RSA \n",
        "from Crypto.Signature import pkcs1_15\n",
        "from Crypto.Hash import SHA256  \n",
        "\n",
        "# Generate a new RSA key pair\n",
        "private_key = RSA.generate(2048)\n",
        "public_key = private_key.publickey()\n",
        "\n",
        "#The message to be signed\n",
        "message = b'Lets start blockchain in Kathmandu university'\n",
        "\n",
        "# Calculate the hash of the message\n",
        "hash_of_message = SHA256.new(message)\n",
        "\n",
        "# Sign the message using the private key\n",
        "signature = pkcs1_15.new(private_key).sign(hash_of_message)\n",
        "\n",
        "# Verify the signature using the public key\n",
        "try:\n",
        "  print(\"Hash of the message: \", hash_of_message)\n",
        "  print(\"Signature: \", signature)\n",
        "  pkcs1_15.new(public_key).verify(hash_of_message, signature)\n",
        "  print(\"The signature is valid.\")\n",
        "except (ValueError, TypeError):\n",
        "  print(\"The signature is invalid.\")\n",
        "\n",
        "# Create a SHA-256 hash of the message\n",
        "hash_object = SHA256.new(message)\n",
        "# Sign the message using the private key\n",
        "# IMP - Also, tampered the signature by appending .\n",
        "signature_tampered = pkcs1_15.new(private_key).sign(hash_object) + b'.'\n",
        "\n",
        "# Verify the signature using the public key\n",
        "try:\n",
        "    print('hash_object',hash_object)\n",
        "    print('Signature',signature_tampered)\n",
        "    pkcs1_15.new(public_key).verify(hash_object, signature_tampered)\n",
        "    print(\"The signature is valid.\")\n",
        "except (ValueError, TypeError):\n",
        "    print(\"The signature is invalid.\")\n",
        "\n",
        "\n"
      ],
      "metadata": {
        "colab": {
          "base_uri": "https://localhost:8080/"
        },
        "id": "UNcIawWLnDI8",
        "outputId": "071e8978-bb72-4e1b-d162-25a1f93409f3"
      },
      "execution_count": 66,
      "outputs": [
        {
          "output_type": "stream",
          "name": "stdout",
          "text": [
            "Hash of the message:  <Crypto.Hash.SHA256.SHA256Hash object at 0x7f73a696bac0>\n",
            "Signature:  b'\\x18\\xd3\\xbe\\xd2f\\x94\\xc9|\\x81\\xfd#\\x9bK\\x900(a\\xd8\\xd11\\x1b\\x0e\\x14\\xa1\\xe5\\xcf\\x87b\\xcd\\x1bu\\x08\\xf4*o\\xa6\\xeb\\xd0\\x1f)\\x80]\\xc6%\\xbd\\xc7\\xbb\\x00\\x18\\xb3`\\xdej\\xea\\xf0n\\x18F-\\x82J\\x06\\xd4\\xaak\\xc4\\x159\\xf4\\x91\\x82\\xaf\\xe8J\\xcd\\xa0\\x91\\rO\\xf2\\xf0\\xaf\\xba\\x0f}\\xbd7\\x92sc[\\x1fD9\\xb6.\\xc0\\x94-\\xfd\"\\xc7oX\\x1b\\x9b\\xba\\x02\\x89+\\x1d\\xd6J\\x96#(\\xb8\\xdcM^\\x123%\\xa6n\\xe6\\x89x\\xf1\\xb2VY\\xbbH;\\x8b\\n*gy\\xb1\\xdf\\xe3\\x02\\xb2\\xe0j\\x07\\x86Y\\xd2\\xcbV\\xfe\\xec6>\\x01v\\xe5\\'\\xb9\\xa1g\\xae\\xb7\\xb5\\x19\\x18\\xafB\\xb7zH\\x85\\x12<\\xa4\\x89\\xecZE\\xc9\\x90\\xd4!\\xd8\\x8a\\xf3y\\x08.\\xebX\\nw\\xa5\\xff\\xafZ\\r\\x98r\\xddO\\x07{\\xbbv\\xc01~\\xa2\\xb3\\x80.)\\x00i\\xe7\\xbd\\xe9g)\\xed\\xf0\\xe5ByR\\xeb?\\xaa\\xca\\x1a\\xf6\\x1e\\xe0\\xf7\\xf3\\xd1\\xabq\\x8b\\r\\xd1\\x04\\x0f#\\xd6F\\xc17\\xd7iF'\n",
            "The signature is valid.\n",
            "hash_object <Crypto.Hash.SHA256.SHA256Hash object at 0x7f73a696b490>\n",
            "Signature b'\\x18\\xd3\\xbe\\xd2f\\x94\\xc9|\\x81\\xfd#\\x9bK\\x900(a\\xd8\\xd11\\x1b\\x0e\\x14\\xa1\\xe5\\xcf\\x87b\\xcd\\x1bu\\x08\\xf4*o\\xa6\\xeb\\xd0\\x1f)\\x80]\\xc6%\\xbd\\xc7\\xbb\\x00\\x18\\xb3`\\xdej\\xea\\xf0n\\x18F-\\x82J\\x06\\xd4\\xaak\\xc4\\x159\\xf4\\x91\\x82\\xaf\\xe8J\\xcd\\xa0\\x91\\rO\\xf2\\xf0\\xaf\\xba\\x0f}\\xbd7\\x92sc[\\x1fD9\\xb6.\\xc0\\x94-\\xfd\"\\xc7oX\\x1b\\x9b\\xba\\x02\\x89+\\x1d\\xd6J\\x96#(\\xb8\\xdcM^\\x123%\\xa6n\\xe6\\x89x\\xf1\\xb2VY\\xbbH;\\x8b\\n*gy\\xb1\\xdf\\xe3\\x02\\xb2\\xe0j\\x07\\x86Y\\xd2\\xcbV\\xfe\\xec6>\\x01v\\xe5\\'\\xb9\\xa1g\\xae\\xb7\\xb5\\x19\\x18\\xafB\\xb7zH\\x85\\x12<\\xa4\\x89\\xecZE\\xc9\\x90\\xd4!\\xd8\\x8a\\xf3y\\x08.\\xebX\\nw\\xa5\\xff\\xafZ\\r\\x98r\\xddO\\x07{\\xbbv\\xc01~\\xa2\\xb3\\x80.)\\x00i\\xe7\\xbd\\xe9g)\\xed\\xf0\\xe5ByR\\xeb?\\xaa\\xca\\x1a\\xf6\\x1e\\xe0\\xf7\\xf3\\xd1\\xabq\\x8b\\r\\xd1\\x04\\x0f#\\xd6F\\xc17\\xd7iF.'\n",
            "The signature is invalid.\n"
          ]
        }
      ]
    },
    {
      "cell_type": "code",
      "source": [],
      "metadata": {
        "id": "nBUzntUjpZkn"
      },
      "execution_count": null,
      "outputs": []
    }
  ],
  "metadata": {
    "colab": {
      "name": "scratchpad",
      "provenance": []
    },
    "kernelspec": {
      "display_name": "Python 3",
      "name": "python3"
    }
  },
  "nbformat": 4,
  "nbformat_minor": 0
}